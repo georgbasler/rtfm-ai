{
 "cells": [
  {
   "cell_type": "markdown",
   "metadata": {},
   "source": [
    "### 1. Access the web UI chat server\n",
    "For llamafile, first, run ./llava-v1.5-7b-q4-server.llamafile\n",
    "For WSL2, execute before running llamafile:\n",
    "\n",
    "```\n",
    "sudo sh -c 'echo :WSLInterop:M::MZ::/init:PF > /usr/lib/binfmt.d/WSLInterop.conf;\n",
    "systemctl unmask systemd-binfmt.service;\n",
    "systemctl restart systemd-binfmt;\n",
    "systemctl mask systemd-binfmt.service;\n",
    "echo -1 > /proc/sys/fs/binfmt_misc/WSLInterop'\n",
    "```"
   ]
  },
  {
   "cell_type": "code",
   "execution_count": 3,
   "metadata": {},
   "outputs": [],
   "source": [
    "import os\n",
    "import openai\n",
    "import panel as pn  # GUI\n",
    "import sys\n",
    "\n",
    "API = 'llamafile'\n",
    "\n",
    "if (API == 'openai'):\n",
    "    from dotenv import load_dotenv, find_dotenv\n",
    "    _ = load_dotenv(find_dotenv())\n",
    "    openai.api_key  = os.getenv('OPENAI_API_KEY')\n",
    "    completion = openai.chat.completions\n",
    "    model = 'gpt-3.5-turbo' # \"This model's maximum context length is 4097 tokens\n",
    "elif (API == 'llamafile'):\n",
    "    client = openai.OpenAI(\n",
    "        base_url=\"http://localhost:8080/v1\", # \"http://<Your api-server IP>:port\"\n",
    "        api_key = \"sk-no-key-required\"\n",
    "    )\n",
    "    completion = client.chat.completions\n",
    "    model = 'LLaMA_CPP'\n",
    "\n",
    "def get_completion(messages, model=model, temperature=0):\n",
    "    response = completion.create(\n",
    "        model=model,\n",
    "        messages=messages,\n",
    "        temperature=temperature\n",
    "    )\n",
    "    return response\n",
    "\n"
   ]
  },
  {
   "cell_type": "markdown",
   "metadata": {},
   "source": [
    "### 2. Read ASCII files from a directory "
   ]
  },
  {
   "cell_type": "code",
   "execution_count": null,
   "metadata": {},
   "outputs": [],
   "source": [
    "from bs4 import BeautifulSoup\n",
    "import re\n",
    "\n",
    "def generate_file_dictionary(directory):\n",
    "    file_dictionary = {}\n",
    "\n",
    "    #print(f\"Checking directory: {directory}\")\n",
    "\n",
    "    for root, dirs, files in os.walk(directory):\n",
    "\n",
    "        for file_name in files:\n",
    "            file_path = os.path.join(root, file_name)\n",
    "\n",
    "            # Check if the file is binary\n",
    "            if not is_binary(file_path):\n",
    "                with open(file_path, 'r', encoding='utf-8') as file:\n",
    "                    file_contents = file.read()\n",
    "                    if file_path.endswith('.html') or file_path.endswith('.htm'):\n",
    "                        soup = BeautifulSoup(file_contents, 'html.parser')\n",
    "                        file_contents = soup.get_text()\n",
    "                    \n",
    "                    file_contents = re.sub('\\n+', '\\n', file_contents)\n",
    "                    file_dictionary[file_path] = file_contents\n",
    "\n",
    "    return file_dictionary\n",
    "\n",
    "def is_binary(file_path):\n",
    "    try:\n",
    "        with open(file_path, 'rb') as f:\n",
    "            content = f.read(1024)\n",
    "            return b'\\0' in content  # Binary files often contain null bytes\n",
    "    except Exception as e:\n",
    "        print(f\"Error checking binary for {file_path}: {e}\")\n",
    "        return False\n",
    "\n",
    "directory_path = '' # INSERT YOUR DOC PATH\n",
    "\n",
    "result_dict = generate_file_dictionary(os.path.expanduser(directory_path))\n",
    "print(f\"Files scanned: {len(result_dict)}\")\n",
    "\n",
    "print(result_dict)\n",
    "\n",
    "#response = get_completion(messages)\n",
    "# print only response text\n",
    "#print(response.choices[0].message.content)\n",
    "# print the whole ChatCompletionMessage object\n",
    "#print(str(response.choices[0].message))\n"
   ]
  },
  {
   "cell_type": "markdown",
   "metadata": {},
   "source": [
    "### 3. Ingest file contents into LLM"
   ]
  },
  {
   "cell_type": "code",
   "execution_count": 5,
   "metadata": {},
   "outputs": [],
   "source": [
    "messages=[\n",
    "    {\"role\": \"system\", \"content\": \"You are an AI assistant, whose role it is to give detailed technical support to a software developer about a tool, library, or package\"\n",
    "     \" from its documentation. Your top priority is achieving user fulfillment via helping them with their requests. \"\n",
    "     \"In the following, you will see the contents of a number of text, HTML, PDF, and source code files of the tool, library, or package. \"\n",
    "     \"Each file is separated by triple quotes and starts with the file name. The content starts on the next line.\"\n",
    "     \"Recall the file name and content sections from each file, such as headings or code functions, so you can include this information with your responses to point \"\n",
    "     \"out where you found that information and quote it.\"\n",
    "     \"In your response, first give the name of the tool, library or package and one sentence summarizing its purpose. Then respond to user requests about the documention.\"\n",
    "     },\n",
    "    {\"role\": \"assistant\", \"content\": \"First give the name of the tool, library or package and one sentence summarizing its purpose. \"\n",
    "     }\n",
    "]\n",
    "\n",
    "# Iterate over the generated dictionary\n",
    "for path, content in result_dict.items():\n",
    "    #print(f\"File: {path}\\nContents:\\n{content}\\n\")\n",
    "    messages[0][\"content\"] += f' \\n\\'\\'\\'{path}\\n{content}\\'\\'\\'\\n'\n",
    "    \n",
    "#print(messages[0][\"content\"])\n",
    "\n",
    "#response = get_completion(messages)"
   ]
  },
  {
   "cell_type": "markdown",
   "metadata": {},
   "source": [
    "### 4. Run the chatbot"
   ]
  },
  {
   "cell_type": "code",
   "execution_count": 5,
   "metadata": {},
   "outputs": [],
   "source": [
    "\n",
    "pn.extension()\n",
    "inp = pn.widgets.TextInput(value=\"Hi\", placeholder='Enter text here…')\n",
    "button_conversation = pn.widgets.Button(name=\"Chat!\")\n",
    "\n",
    "panels = [] # collect display \n",
    "def collect_messages(_):\n",
    "    prompt = inp.value_input\n",
    "    inp.value = ''\n",
    "    messages.append({'role':'user', 'content':f\"{prompt}\"})\n",
    "    response = get_completion(messages)\n",
    "    #response_content = response.choices[0].message['content']\n",
    "    response_content = response.choices[0].message.content\n",
    "    #response = get_completion(messages).choices[0].message\n",
    "    messages.append({'role':'assistant', 'content':f\"{response_content}\"})\n",
    "    panels.append(pn.Row('User:', pn.pane.Markdown(prompt, width=600)))\n",
    "    panels.append(pn.Row('Assistant:', pn.pane.Markdown(response_content, width=600, style={'background-color': '#F6F6F6'})))\n",
    " \n",
    "    return pn.Column(*panels)"
   ]
  },
  {
   "cell_type": "code",
   "execution_count": null,
   "metadata": {},
   "outputs": [],
   "source": [
    "\n",
    "interactive_conversation = pn.bind(collect_messages, button_conversation)\n",
    "\n",
    "dashboard = pn.Column(\n",
    "    inp,\n",
    "    pn.Row(button_conversation),\n",
    "    pn.panel(interactive_conversation, loading_indicator=True, height=300)\n",
    ")"
   ]
  },
  {
   "cell_type": "code",
   "execution_count": null,
   "metadata": {},
   "outputs": [],
   "source": [
    "dashboard"
   ]
  }
 ],
 "metadata": {
  "kernelspec": {
   "display_name": "rtfm-ai_env",
   "language": "python",
   "name": "python3"
  },
  "language_info": {
   "codemirror_mode": {
    "name": "ipython",
    "version": 3
   },
   "file_extension": ".py",
   "mimetype": "text/x-python",
   "name": "python",
   "nbconvert_exporter": "python",
   "pygments_lexer": "ipython3",
   "version": "3.10.12"
  }
 },
 "nbformat": 4,
 "nbformat_minor": 2
}
